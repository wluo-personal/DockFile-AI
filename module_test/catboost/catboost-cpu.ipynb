{
 "cells": [
  {
   "cell_type": "code",
   "execution_count": 1,
   "metadata": {},
   "outputs": [],
   "source": [
    "from catboost import CatBoostClassifier\n",
    "import pandas as pd"
   ]
  },
  {
   "cell_type": "code",
   "execution_count": 2,
   "metadata": {},
   "outputs": [],
   "source": [
    "df = pd.read_csv('../../data/pima-indians-diabetes.data.csv')\n",
    "train_x = df.iloc[:,:8].copy()\n",
    "train_y = df.iloc[:,8].values"
   ]
  },
  {
   "cell_type": "code",
   "execution_count": 3,
   "metadata": {},
   "outputs": [],
   "source": [
    "model = CatBoostClassifier(iterations=100, \n",
    "                              depth=None, \n",
    "                              thread_count=10,\n",
    "                              learning_rate=0.01, \n",
    "                              loss_function='Logloss',\n",
    "                              verbose=5,\n",
    "                              task_type='CPU')\n",
    "    "
   ]
  },
  {
   "cell_type": "code",
   "execution_count": 4,
   "metadata": {},
   "outputs": [
    {
     "name": "stderr",
     "output_type": "stream",
     "text": [
      "Warning: Overfitting detector is active, thus evaluation metric iscalculated on every iteration. 'metric_period' is ignored for evaluation metric.\n"
     ]
    },
    {
     "name": "stdout",
     "output_type": "stream",
     "text": [
      "0:\tlearn: 0.6871052\ttest: 0.6871052\tbest: 0.6871052 (0)\ttotal: 59.5ms\tremaining: 5.89s\n",
      "5:\tlearn: 0.6657436\ttest: 0.6657436\tbest: 0.6657436 (5)\ttotal: 87.1ms\tremaining: 1.36s\n",
      "10:\tlearn: 0.6434544\ttest: 0.6434544\tbest: 0.6434544 (10)\ttotal: 108ms\tremaining: 872ms\n",
      "15:\tlearn: 0.6276099\ttest: 0.6276099\tbest: 0.6276099 (15)\ttotal: 127ms\tremaining: 667ms\n",
      "20:\tlearn: 0.6102095\ttest: 0.6102095\tbest: 0.6102095 (20)\ttotal: 146ms\tremaining: 551ms\n",
      "25:\tlearn: 0.5944330\ttest: 0.5944330\tbest: 0.5944330 (25)\ttotal: 167ms\tremaining: 475ms\n",
      "30:\tlearn: 0.5804409\ttest: 0.5804409\tbest: 0.5804409 (30)\ttotal: 187ms\tremaining: 417ms\n",
      "35:\tlearn: 0.5673052\ttest: 0.5673052\tbest: 0.5673052 (35)\ttotal: 208ms\tremaining: 369ms\n",
      "40:\tlearn: 0.5545473\ttest: 0.5545473\tbest: 0.5545473 (40)\ttotal: 228ms\tremaining: 329ms\n",
      "45:\tlearn: 0.5429868\ttest: 0.5429868\tbest: 0.5429868 (45)\ttotal: 248ms\tremaining: 292ms\n",
      "50:\tlearn: 0.5332608\ttest: 0.5332608\tbest: 0.5332608 (50)\ttotal: 269ms\tremaining: 258ms\n",
      "55:\tlearn: 0.5234061\ttest: 0.5234061\tbest: 0.5234061 (55)\ttotal: 289ms\tremaining: 227ms\n",
      "60:\tlearn: 0.5161134\ttest: 0.5161134\tbest: 0.5161134 (60)\ttotal: 308ms\tremaining: 197ms\n",
      "65:\tlearn: 0.5077134\ttest: 0.5077134\tbest: 0.5077134 (65)\ttotal: 329ms\tremaining: 169ms\n",
      "70:\tlearn: 0.5007178\ttest: 0.5007178\tbest: 0.5007178 (70)\ttotal: 349ms\tremaining: 142ms\n",
      "75:\tlearn: 0.4944117\ttest: 0.4944117\tbest: 0.4944117 (75)\ttotal: 367ms\tremaining: 116ms\n",
      "80:\tlearn: 0.4891653\ttest: 0.4891653\tbest: 0.4891653 (80)\ttotal: 388ms\tremaining: 91ms\n",
      "85:\tlearn: 0.4834850\ttest: 0.4834850\tbest: 0.4834850 (85)\ttotal: 407ms\tremaining: 66.3ms\n",
      "90:\tlearn: 0.4792218\ttest: 0.4792218\tbest: 0.4792218 (90)\ttotal: 428ms\tremaining: 42.3ms\n",
      "95:\tlearn: 0.4740524\ttest: 0.4740524\tbest: 0.4740524 (95)\ttotal: 448ms\tremaining: 18.7ms\n",
      "99:\tlearn: 0.4694867\ttest: 0.4694867\tbest: 0.4694867 (99)\ttotal: 464ms\tremaining: 0us\n",
      "\n",
      "bestTest = 0.4694867486\n",
      "bestIteration = 99\n",
      "\n"
     ]
    },
    {
     "data": {
      "text/plain": [
       "<catboost.core.CatBoostClassifier at 0x7f5f7b94ad30>"
      ]
     },
     "execution_count": 4,
     "metadata": {},
     "output_type": "execute_result"
    }
   ],
   "source": [
    "model.fit(train_x,train_y,\n",
    "              \n",
    "              eval_set=[(train_x, train_y)],\n",
    "              early_stopping_rounds=3,\n",
    "              verbose_eval=5,\n",
    "              metric_period=5)"
   ]
  },
  {
   "cell_type": "code",
   "execution_count": null,
   "metadata": {},
   "outputs": [],
   "source": []
  }
 ],
 "metadata": {
  "kernelspec": {
   "display_name": "python3.6-CPU",
   "language": "python",
   "name": "python3.6-cpu"
  },
  "language_info": {
   "codemirror_mode": {
    "name": "ipython",
    "version": 3
   },
   "file_extension": ".py",
   "mimetype": "text/x-python",
   "name": "python",
   "nbconvert_exporter": "python",
   "pygments_lexer": "ipython3",
   "version": "3.6.6"
  }
 },
 "nbformat": 4,
 "nbformat_minor": 2
}
