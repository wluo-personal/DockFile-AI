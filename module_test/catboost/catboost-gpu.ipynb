{
 "cells": [
  {
   "cell_type": "code",
   "execution_count": 2,
   "metadata": {},
   "outputs": [],
   "source": [
    "from catboost import CatBoostClassifier\n",
    "import pandas as pd"
   ]
  },
  {
   "cell_type": "code",
   "execution_count": 3,
   "metadata": {},
   "outputs": [],
   "source": [
    "df = pd.read_csv('../../data/pima-indians-diabetes.data.csv')\n",
    "train_x = df.iloc[:,:8].copy()\n",
    "train_y = df.iloc[:,8].values"
   ]
  },
  {
   "cell_type": "code",
   "execution_count": 7,
   "metadata": {},
   "outputs": [],
   "source": [
    "model = CatBoostClassifier(iterations=100, \n",
    "                              depth=None, \n",
    "                              thread_count=10,\n",
    "                              learning_rate=0.01, \n",
    "                              loss_function='Logloss',\n",
    "                              verbose=5,\n",
    "                              task_type='GPU')\n",
    "    "
   ]
  },
  {
   "cell_type": "code",
   "execution_count": 8,
   "metadata": {},
   "outputs": [
    {
     "name": "stdout",
     "output_type": "stream",
     "text": [
      "0:\tlearn: 0.6872484\ttest: 0.6872483\tbest: 0.6872483 (0)\ttotal: 22.1ms\tremaining: 2.19s\n",
      "5:\tlearn: 0.6612983\ttest: 0.6612983\tbest: 0.6612983 (5)\ttotal: 121ms\tremaining: 1.89s\n",
      "10:\tlearn: 0.6389571\ttest: 0.6389571\tbest: 0.6389571 (10)\ttotal: 215ms\tremaining: 1.74s\n",
      "15:\tlearn: 0.6178378\ttest: 0.6178378\tbest: 0.6178378 (15)\ttotal: 308ms\tremaining: 1.62s\n",
      "20:\tlearn: 0.5988509\ttest: 0.5988509\tbest: 0.5988509 (20)\ttotal: 399ms\tremaining: 1.5s\n",
      "25:\tlearn: 0.5837709\ttest: 0.5837709\tbest: 0.5837709 (25)\ttotal: 479ms\tremaining: 1.36s\n",
      "30:\tlearn: 0.5695285\ttest: 0.5695284\tbest: 0.5695284 (30)\ttotal: 564ms\tremaining: 1.25s\n",
      "35:\tlearn: 0.5594040\ttest: 0.5594040\tbest: 0.5594040 (35)\ttotal: 645ms\tremaining: 1.15s\n",
      "40:\tlearn: 0.5483349\ttest: 0.5483349\tbest: 0.5483349 (40)\ttotal: 737ms\tremaining: 1.06s\n",
      "45:\tlearn: 0.5363737\ttest: 0.5363737\tbest: 0.5363737 (45)\ttotal: 823ms\tremaining: 967ms\n",
      "50:\tlearn: 0.5263048\ttest: 0.5263048\tbest: 0.5263048 (50)\ttotal: 909ms\tremaining: 873ms\n",
      "55:\tlearn: 0.5178306\ttest: 0.5178306\tbest: 0.5178306 (55)\ttotal: 989ms\tremaining: 777ms\n",
      "60:\tlearn: 0.5109947\ttest: 0.5109947\tbest: 0.5109947 (60)\ttotal: 1.06s\tremaining: 680ms\n",
      "65:\tlearn: 0.5040651\ttest: 0.5040651\tbest: 0.5040651 (65)\ttotal: 1.14s\tremaining: 588ms\n",
      "70:\tlearn: 0.4966933\ttest: 0.4966933\tbest: 0.4966933 (70)\ttotal: 1.23s\tremaining: 502ms\n",
      "75:\tlearn: 0.4911607\ttest: 0.4911607\tbest: 0.4911607 (75)\ttotal: 1.32s\tremaining: 417ms\n",
      "80:\tlearn: 0.4853458\ttest: 0.4853459\tbest: 0.4853459 (80)\ttotal: 1.41s\tremaining: 331ms\n",
      "85:\tlearn: 0.4797913\ttest: 0.4797913\tbest: 0.4797913 (85)\ttotal: 1.49s\tremaining: 243ms\n",
      "90:\tlearn: 0.4758210\ttest: 0.4758210\tbest: 0.4758210 (90)\ttotal: 1.57s\tremaining: 155ms\n",
      "95:\tlearn: 0.4705735\ttest: 0.4705735\tbest: 0.4705735 (95)\ttotal: 1.66s\tremaining: 69.3ms\n",
      "99:\tlearn: 0.4660702\ttest: 0.4660702\tbest: 0.4660702 (99)\ttotal: 1.74s\tremaining: 0us\n"
     ]
    },
    {
     "data": {
      "text/plain": [
       "<catboost.core.CatBoostClassifier at 0x7fb37ffeb438>"
      ]
     },
     "execution_count": 8,
     "metadata": {},
     "output_type": "execute_result"
    }
   ],
   "source": [
    "model.fit(train_x,train_y,\n",
    "              \n",
    "              eval_set=[(train_x, train_y)],\n",
    "              early_stopping_rounds=3,\n",
    "              verbose_eval=5,\n",
    "              metric_period=5)"
   ]
  },
  {
   "cell_type": "code",
   "execution_count": null,
   "metadata": {},
   "outputs": [],
   "source": []
  }
 ],
 "metadata": {
  "kernelspec": {
   "display_name": "python3.6-GPU",
   "language": "python",
   "name": "python3.6-gpu"
  },
  "language_info": {
   "codemirror_mode": {
    "name": "ipython",
    "version": 3
   },
   "file_extension": ".py",
   "mimetype": "text/x-python",
   "name": "python",
   "nbconvert_exporter": "python",
   "pygments_lexer": "ipython3",
   "version": "3.6.6"
  }
 },
 "nbformat": 4,
 "nbformat_minor": 2
}
