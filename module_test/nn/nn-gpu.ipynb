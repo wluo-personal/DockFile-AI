{
 "cells": [
  {
   "cell_type": "code",
   "execution_count": 3,
   "metadata": {},
   "outputs": [],
   "source": [
    "from keras.models import Sequential\n",
    "from keras.layers import Dense\n",
    "import numpy\n",
    "# fix random seed for reproducibility\n",
    "numpy.random.seed(7)\n",
    "import pandas as pd\n",
    "\n"
   ]
  },
  {
   "cell_type": "code",
   "execution_count": 4,
   "metadata": {},
   "outputs": [],
   "source": [
    "dataset = pd.read_csv('../../data/pima-indians-diabetes.data.csv')\n",
    "X = dataset.iloc[:,:8].values\n",
    "Y = dataset.iloc[:,8].values"
   ]
  },
  {
   "cell_type": "code",
   "execution_count": 5,
   "metadata": {},
   "outputs": [],
   "source": [
    "model = Sequential()\n",
    "model.add(Dense(12, input_dim=8, activation='relu'))\n",
    "model.add(Dense(8, activation='relu'))\n",
    "model.add(Dense(1, activation='sigmoid'))\n",
    "model.compile(loss='binary_crossentropy', optimizer='adam', metrics=['accuracy'])"
   ]
  },
  {
   "cell_type": "code",
   "execution_count": 8,
   "metadata": {},
   "outputs": [
    {
     "name": "stdout",
     "output_type": "stream",
     "text": [
      "Epoch 1/15\n",
      "767/767 [==============================] - 0s 452us/step - loss: 0.5179 - acc: 0.7327\n",
      "Epoch 2/15\n",
      "767/767 [==============================] - 0s 453us/step - loss: 0.5441 - acc: 0.7236\n",
      "Epoch 3/15\n",
      "767/767 [==============================] - 0s 449us/step - loss: 0.5476 - acc: 0.7340\n",
      "Epoch 4/15\n",
      "767/767 [==============================] - 0s 447us/step - loss: 0.5264 - acc: 0.7432\n",
      "Epoch 5/15\n",
      "767/767 [==============================] - 0s 454us/step - loss: 0.5326 - acc: 0.7392\n",
      "Epoch 6/15\n",
      "767/767 [==============================] - 0s 458us/step - loss: 0.5226 - acc: 0.7262\n",
      "Epoch 7/15\n",
      "767/767 [==============================] - 0s 457us/step - loss: 0.5139 - acc: 0.7562\n",
      "Epoch 8/15\n",
      "767/767 [==============================] - 0s 455us/step - loss: 0.5246 - acc: 0.7340\n",
      "Epoch 9/15\n",
      "767/767 [==============================] - 0s 453us/step - loss: 0.5148 - acc: 0.7379\n",
      "Epoch 10/15\n",
      "767/767 [==============================] - 0s 456us/step - loss: 0.5218 - acc: 0.7379\n",
      "Epoch 11/15\n",
      "767/767 [==============================] - 0s 455us/step - loss: 0.5185 - acc: 0.7458\n",
      "Epoch 12/15\n",
      "767/767 [==============================] - 0s 455us/step - loss: 0.5279 - acc: 0.7405\n",
      "Epoch 13/15\n",
      "767/767 [==============================] - 0s 457us/step - loss: 0.5339 - acc: 0.7405\n",
      "Epoch 14/15\n",
      "767/767 [==============================] - 0s 453us/step - loss: 0.5184 - acc: 0.7458\n",
      "Epoch 15/15\n",
      "767/767 [==============================] - 0s 453us/step - loss: 0.5073 - acc: 0.7510\n"
     ]
    },
    {
     "data": {
      "text/plain": [
       "<keras.callbacks.History at 0x7f5f34339438>"
      ]
     },
     "execution_count": 8,
     "metadata": {},
     "output_type": "execute_result"
    }
   ],
   "source": [
    "model.fit(X, Y, epochs=15, batch_size=10)"
   ]
  },
  {
   "cell_type": "code",
   "execution_count": null,
   "metadata": {},
   "outputs": [],
   "source": []
  }
 ],
 "metadata": {
  "kernelspec": {
   "display_name": "python3.6-GPU",
   "language": "python",
   "name": "python3.6-gpu"
  },
  "language_info": {
   "codemirror_mode": {
    "name": "ipython",
    "version": 3
   },
   "file_extension": ".py",
   "mimetype": "text/x-python",
   "name": "python",
   "nbconvert_exporter": "python",
   "pygments_lexer": "ipython3",
   "version": "3.6.6"
  }
 },
 "nbformat": 4,
 "nbformat_minor": 2
}
