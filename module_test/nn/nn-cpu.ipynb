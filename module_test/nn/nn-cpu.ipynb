{
 "cells": [
  {
   "cell_type": "code",
   "execution_count": 1,
   "metadata": {},
   "outputs": [
    {
     "name": "stderr",
     "output_type": "stream",
     "text": [
      "Using TensorFlow backend.\n"
     ]
    }
   ],
   "source": [
    "import pandas as pd\n",
    "from keras.layers import Dense, Input\n",
    "from keras.models import Model\n",
    "from keras.optimizers import Adam"
   ]
  },
  {
   "cell_type": "code",
   "execution_count": 2,
   "metadata": {},
   "outputs": [],
   "source": [
    "dataset = pd.read_csv('../../data/pima-indians-diabetes.data.csv')\n",
    "X = dataset.iloc[:,:8].values\n",
    "Y = dataset.iloc[:,8].values"
   ]
  },
  {
   "cell_type": "code",
   "execution_count": 3,
   "metadata": {},
   "outputs": [],
   "source": [
    "x_in = Input(shape=(8,))\n",
    "x = Dense(12,activation='relu')(x_in)\n",
    "x = Dense(8,activation='relu')(x)\n",
    "x_out = Dense(1,activation='sigmoid')(x)\n",
    "model = Model(x_in, x_out)\n",
    "model.compile(loss='binary_crossentropy',optimizer=Adam(),metrics=['accuracy'])    "
   ]
  },
  {
   "cell_type": "code",
   "execution_count": 5,
   "metadata": {},
   "outputs": [
    {
     "name": "stdout",
     "output_type": "stream",
     "text": [
      "Epoch 1/15\n",
      " - 0s - loss: 0.6222 - acc: 0.6923\n",
      "Epoch 2/15\n",
      " - 0s - loss: 0.6324 - acc: 0.6754\n",
      "Epoch 3/15\n",
      " - 0s - loss: 0.6371 - acc: 0.6871\n",
      "Epoch 4/15\n",
      " - 0s - loss: 0.6428 - acc: 0.6871\n",
      "Epoch 5/15\n",
      " - 0s - loss: 0.6198 - acc: 0.6858\n",
      "Epoch 6/15\n",
      " - 0s - loss: 0.6174 - acc: 0.6871\n",
      "Epoch 7/15\n",
      " - 0s - loss: 0.6081 - acc: 0.6832\n",
      "Epoch 8/15\n",
      " - 0s - loss: 0.6029 - acc: 0.7053\n",
      "Epoch 9/15\n",
      " - 0s - loss: 0.6071 - acc: 0.7001\n",
      "Epoch 10/15\n",
      " - 0s - loss: 0.5967 - acc: 0.7093\n",
      "Epoch 11/15\n",
      " - 0s - loss: 0.6149 - acc: 0.6936\n",
      "Epoch 12/15\n",
      " - 0s - loss: 0.6083 - acc: 0.6936\n",
      "Epoch 13/15\n",
      " - 0s - loss: 0.6019 - acc: 0.6988\n",
      "Epoch 14/15\n",
      " - 0s - loss: 0.5937 - acc: 0.7093\n",
      "Epoch 15/15\n",
      " - 0s - loss: 0.5954 - acc: 0.6988\n"
     ]
    },
    {
     "data": {
      "text/plain": [
       "<keras.callbacks.History at 0x7f6aa7ea06a0>"
      ]
     },
     "execution_count": 5,
     "metadata": {},
     "output_type": "execute_result"
    }
   ],
   "source": [
    "model.fit(X, Y, epochs=15, batch_size=10,verbose=2)"
   ]
  },
  {
   "cell_type": "code",
   "execution_count": null,
   "metadata": {},
   "outputs": [],
   "source": []
  }
 ],
 "metadata": {
  "kernelspec": {
   "display_name": "python3.6-CPU",
   "language": "python",
   "name": "python3.6-cpu"
  },
  "language_info": {
   "codemirror_mode": {
    "name": "ipython",
    "version": 3
   },
   "file_extension": ".py",
   "mimetype": "text/x-python",
   "name": "python",
   "nbconvert_exporter": "python",
   "pygments_lexer": "ipython3",
   "version": "3.6.6"
  }
 },
 "nbformat": 4,
 "nbformat_minor": 2
}
