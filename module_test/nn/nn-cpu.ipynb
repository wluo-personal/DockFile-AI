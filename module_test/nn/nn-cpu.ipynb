{
 "cells": [
  {
   "cell_type": "code",
   "execution_count": 1,
   "metadata": {},
   "outputs": [
    {
     "name": "stderr",
     "output_type": "stream",
     "text": [
      "Using TensorFlow backend.\n"
     ]
    }
   ],
   "source": [
    "from keras.models import Sequential\n",
    "from keras.layers import Dense\n",
    "import numpy\n",
    "# fix random seed for reproducibility\n",
    "numpy.random.seed(7)\n",
    "import pandas as pd\n",
    "\n"
   ]
  },
  {
   "cell_type": "code",
   "execution_count": 2,
   "metadata": {},
   "outputs": [],
   "source": [
    "dataset = pd.read_csv('../../data/pima-indians-diabetes.data.csv')\n",
    "X = dataset.iloc[:,:8].values\n",
    "Y = dataset.iloc[:,8].values"
   ]
  },
  {
   "cell_type": "code",
   "execution_count": 3,
   "metadata": {},
   "outputs": [],
   "source": [
    "model = Sequential()\n",
    "model.add(Dense(12, input_dim=8, activation='relu'))\n",
    "model.add(Dense(8, activation='relu'))\n",
    "model.add(Dense(1, activation='sigmoid'))\n",
    "model.compile(loss='binary_crossentropy', optimizer='adam', metrics=['accuracy'])"
   ]
  },
  {
   "cell_type": "code",
   "execution_count": 5,
   "metadata": {},
   "outputs": [
    {
     "name": "stdout",
     "output_type": "stream",
     "text": [
      "Epoch 1/15\n",
      "767/767 [==============================] - 0s 182us/step - loss: 0.6043 - acc: 0.7014\n",
      "Epoch 2/15\n",
      "767/767 [==============================] - 0s 180us/step - loss: 0.5948 - acc: 0.6936\n",
      "Epoch 3/15\n",
      "767/767 [==============================] - 0s 182us/step - loss: 0.6204 - acc: 0.6701\n",
      "Epoch 4/15\n",
      "767/767 [==============================] - 0s 178us/step - loss: 0.6045 - acc: 0.6897\n",
      "Epoch 5/15\n",
      "767/767 [==============================] - 0s 180us/step - loss: 0.5906 - acc: 0.6936\n",
      "Epoch 6/15\n",
      "767/767 [==============================] - 0s 182us/step - loss: 0.5766 - acc: 0.7158\n",
      "Epoch 7/15\n",
      "767/767 [==============================] - 0s 177us/step - loss: 0.5750 - acc: 0.7001\n",
      "Epoch 8/15\n",
      "767/767 [==============================] - 0s 180us/step - loss: 0.5742 - acc: 0.7158\n",
      "Epoch 9/15\n",
      "767/767 [==============================] - 0s 183us/step - loss: 0.5659 - acc: 0.7119\n",
      "Epoch 10/15\n",
      "767/767 [==============================] - 0s 182us/step - loss: 0.5653 - acc: 0.7236\n",
      "Epoch 11/15\n",
      "767/767 [==============================] - 0s 174us/step - loss: 0.5596 - acc: 0.7314\n",
      "Epoch 12/15\n",
      "767/767 [==============================] - 0s 179us/step - loss: 0.5595 - acc: 0.7327\n",
      "Epoch 13/15\n",
      "767/767 [==============================] - 0s 181us/step - loss: 0.5676 - acc: 0.7027\n",
      "Epoch 14/15\n",
      "767/767 [==============================] - 0s 179us/step - loss: 0.5634 - acc: 0.7093\n",
      "Epoch 15/15\n",
      "767/767 [==============================] - 0s 168us/step - loss: 0.5450 - acc: 0.7197\n"
     ]
    },
    {
     "data": {
      "text/plain": [
       "<keras.callbacks.History at 0x7f46a6f82710>"
      ]
     },
     "execution_count": 5,
     "metadata": {},
     "output_type": "execute_result"
    }
   ],
   "source": [
    "model.fit(X, Y, epochs=15, batch_size=10)"
   ]
  },
  {
   "cell_type": "code",
   "execution_count": null,
   "metadata": {},
   "outputs": [],
   "source": []
  }
 ],
 "metadata": {
  "kernelspec": {
   "display_name": "python3.6-CPU",
   "language": "python",
   "name": "python3.6-cpu"
  },
  "language_info": {
   "codemirror_mode": {
    "name": "ipython",
    "version": 3
   },
   "file_extension": ".py",
   "mimetype": "text/x-python",
   "name": "python",
   "nbconvert_exporter": "python",
   "pygments_lexer": "ipython3",
   "version": "3.6.6"
  }
 },
 "nbformat": 4,
 "nbformat_minor": 2
}
