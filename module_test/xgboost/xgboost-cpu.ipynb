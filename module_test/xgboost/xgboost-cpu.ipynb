{
 "cells": [
  {
   "cell_type": "code",
   "execution_count": 1,
   "metadata": {},
   "outputs": [],
   "source": [
    "from xgboost import XGBClassifier\n",
    "import pandas as pd\n",
    "import xgboost as xgb\n",
    "xgboost.__version__"
   ]
  },
  {
   "cell_type": "code",
   "execution_count": 2,
   "metadata": {},
   "outputs": [],
   "source": [
    "df = pd.read_csv('../../data/pima-indians-diabetes.data.csv')\n",
    "train_x = df.iloc[:,:8].values\n",
    "train_y = df.iloc[:,8].values"
   ]
  },
  {
   "cell_type": "code",
   "execution_count": 10,
   "metadata": {},
   "outputs": [],
   "source": [
    "clf = XGBClassifier()\n",
    "# clf = XGBClassifier(gpu_id=0,tree_method='gpu_hist',max_bin=32)"
   ]
  },
  {
   "cell_type": "code",
   "execution_count": 11,
   "metadata": {},
   "outputs": [
    {
     "name": "stdout",
     "output_type": "stream",
     "text": [
      "[0]\tvalidation_0-logloss:0.657071\tvalidation_0-auc:0.83839\n",
      "[1]\tvalidation_0-logloss:0.627099\tvalidation_0-auc:0.84688\n",
      "[2]\tvalidation_0-logloss:0.602368\tvalidation_0-auc:0.84861\n",
      "[3]\tvalidation_0-logloss:0.581001\tvalidation_0-auc:0.851127\n",
      "[4]\tvalidation_0-logloss:0.56277\tvalidation_0-auc:0.854581\n",
      "[5]\tvalidation_0-logloss:0.546952\tvalidation_0-auc:0.857978\n",
      "[6]\tvalidation_0-logloss:0.532288\tvalidation_0-auc:0.864427\n",
      "[7]\tvalidation_0-logloss:0.519861\tvalidation_0-auc:0.867199\n",
      "[8]\tvalidation_0-logloss:0.508205\tvalidation_0-auc:0.868708\n",
      "[9]\tvalidation_0-logloss:0.498428\tvalidation_0-auc:0.870052\n",
      "[10]\tvalidation_0-logloss:0.489888\tvalidation_0-auc:0.874573\n",
      "[11]\tvalidation_0-logloss:0.482028\tvalidation_0-auc:0.876524\n",
      "[12]\tvalidation_0-logloss:0.474109\tvalidation_0-auc:0.87958\n",
      "[13]\tvalidation_0-logloss:0.467205\tvalidation_0-auc:0.881449\n",
      "[14]\tvalidation_0-logloss:0.460859\tvalidation_0-auc:0.88303\n",
      "[15]\tvalidation_0-logloss:0.454927\tvalidation_0-auc:0.885438\n",
      "[16]\tvalidation_0-logloss:0.449924\tvalidation_0-auc:0.886453\n",
      "[17]\tvalidation_0-logloss:0.444628\tvalidation_0-auc:0.887809\n",
      "[18]\tvalidation_0-logloss:0.439328\tvalidation_0-auc:0.889547\n",
      "[19]\tvalidation_0-logloss:0.435284\tvalidation_0-auc:0.890577\n",
      "[20]\tvalidation_0-logloss:0.431072\tvalidation_0-auc:0.891719\n",
      "[21]\tvalidation_0-logloss:0.427231\tvalidation_0-auc:0.893011\n",
      "[22]\tvalidation_0-logloss:0.423865\tvalidation_0-auc:0.894296\n",
      "[23]\tvalidation_0-logloss:0.420463\tvalidation_0-auc:0.89573\n",
      "[24]\tvalidation_0-logloss:0.417368\tvalidation_0-auc:0.896805\n",
      "[25]\tvalidation_0-logloss:0.414533\tvalidation_0-auc:0.897925\n",
      "[26]\tvalidation_0-logloss:0.411417\tvalidation_0-auc:0.898404\n",
      "[27]\tvalidation_0-logloss:0.408412\tvalidation_0-auc:0.899423\n",
      "[28]\tvalidation_0-logloss:0.406021\tvalidation_0-auc:0.900457\n",
      "[29]\tvalidation_0-logloss:0.403586\tvalidation_0-auc:0.901442\n",
      "[30]\tvalidation_0-logloss:0.40105\tvalidation_0-auc:0.902528\n",
      "[31]\tvalidation_0-logloss:0.399025\tvalidation_0-auc:0.903401\n",
      "[32]\tvalidation_0-logloss:0.397101\tvalidation_0-auc:0.903906\n",
      "[33]\tvalidation_0-logloss:0.395306\tvalidation_0-auc:0.904221\n",
      "[34]\tvalidation_0-logloss:0.393059\tvalidation_0-auc:0.904794\n",
      "[35]\tvalidation_0-logloss:0.391261\tvalidation_0-auc:0.905775\n",
      "[36]\tvalidation_0-logloss:0.388559\tvalidation_0-auc:0.907232\n",
      "[37]\tvalidation_0-logloss:0.38672\tvalidation_0-auc:0.908071\n",
      "[38]\tvalidation_0-logloss:0.38474\tvalidation_0-auc:0.909019\n",
      "[39]\tvalidation_0-logloss:0.382826\tvalidation_0-auc:0.909989\n",
      "[40]\tvalidation_0-logloss:0.380143\tvalidation_0-auc:0.911712\n",
      "[41]\tvalidation_0-logloss:0.378597\tvalidation_0-auc:0.912094\n",
      "[42]\tvalidation_0-logloss:0.377302\tvalidation_0-auc:0.912506\n",
      "[43]\tvalidation_0-logloss:0.375012\tvalidation_0-auc:0.913989\n",
      "[44]\tvalidation_0-logloss:0.372785\tvalidation_0-auc:0.915285\n",
      "[45]\tvalidation_0-logloss:0.371007\tvalidation_0-auc:0.916228\n",
      "[46]\tvalidation_0-logloss:0.369495\tvalidation_0-auc:0.916708\n",
      "[47]\tvalidation_0-logloss:0.368224\tvalidation_0-auc:0.916936\n",
      "[48]\tvalidation_0-logloss:0.366573\tvalidation_0-auc:0.918247\n",
      "[49]\tvalidation_0-logloss:0.365199\tvalidation_0-auc:0.91927\n",
      "[50]\tvalidation_0-logloss:0.363713\tvalidation_0-auc:0.920109\n",
      "[51]\tvalidation_0-logloss:0.361842\tvalidation_0-auc:0.921142\n",
      "[52]\tvalidation_0-logloss:0.360408\tvalidation_0-auc:0.922086\n",
      "[53]\tvalidation_0-logloss:0.359089\tvalidation_0-auc:0.922521\n",
      "[54]\tvalidation_0-logloss:0.35767\tvalidation_0-auc:0.923266\n",
      "[55]\tvalidation_0-logloss:0.35599\tvalidation_0-auc:0.92394\n",
      "[56]\tvalidation_0-logloss:0.354701\tvalidation_0-auc:0.924517\n",
      "[57]\tvalidation_0-logloss:0.35374\tvalidation_0-auc:0.924757\n",
      "[58]\tvalidation_0-logloss:0.352497\tvalidation_0-auc:0.925356\n",
      "[59]\tvalidation_0-logloss:0.351313\tvalidation_0-auc:0.925906\n",
      "[60]\tvalidation_0-logloss:0.349936\tvalidation_0-auc:0.926663\n",
      "[61]\tvalidation_0-logloss:0.348717\tvalidation_0-auc:0.927352\n",
      "[62]\tvalidation_0-logloss:0.347661\tvalidation_0-auc:0.927719\n",
      "[63]\tvalidation_0-logloss:0.346622\tvalidation_0-auc:0.928199\n",
      "[64]\tvalidation_0-logloss:0.345314\tvalidation_0-auc:0.928528\n",
      "[65]\tvalidation_0-logloss:0.344288\tvalidation_0-auc:0.92909\n",
      "[66]\tvalidation_0-logloss:0.343256\tvalidation_0-auc:0.929562\n",
      "[67]\tvalidation_0-logloss:0.342045\tvalidation_0-auc:0.930266\n",
      "[68]\tvalidation_0-logloss:0.340793\tvalidation_0-auc:0.930929\n",
      "[69]\tvalidation_0-logloss:0.339884\tvalidation_0-auc:0.931281\n",
      "[70]\tvalidation_0-logloss:0.338933\tvalidation_0-auc:0.931622\n",
      "[71]\tvalidation_0-logloss:0.337936\tvalidation_0-auc:0.932109\n",
      "[72]\tvalidation_0-logloss:0.336841\tvalidation_0-auc:0.932573\n",
      "[73]\tvalidation_0-logloss:0.335572\tvalidation_0-auc:0.933247\n",
      "[74]\tvalidation_0-logloss:0.334729\tvalidation_0-auc:0.933494\n",
      "[75]\tvalidation_0-logloss:0.333725\tvalidation_0-auc:0.934161\n",
      "[76]\tvalidation_0-logloss:0.332385\tvalidation_0-auc:0.935082\n",
      "[77]\tvalidation_0-logloss:0.331122\tvalidation_0-auc:0.935835\n",
      "[78]\tvalidation_0-logloss:0.330277\tvalidation_0-auc:0.936082\n",
      "[79]\tvalidation_0-logloss:0.329502\tvalidation_0-auc:0.93627\n",
      "[80]\tvalidation_0-logloss:0.328756\tvalidation_0-auc:0.936652\n",
      "[81]\tvalidation_0-logloss:0.327652\tvalidation_0-auc:0.937019\n",
      "[82]\tvalidation_0-logloss:0.326987\tvalidation_0-auc:0.937101\n",
      "[83]\tvalidation_0-logloss:0.325844\tvalidation_0-auc:0.937873\n",
      "[84]\tvalidation_0-logloss:0.324781\tvalidation_0-auc:0.938442\n",
      "[85]\tvalidation_0-logloss:0.3239\tvalidation_0-auc:0.938966\n",
      "[86]\tvalidation_0-logloss:0.322879\tvalidation_0-auc:0.939363\n",
      "[87]\tvalidation_0-logloss:0.322279\tvalidation_0-auc:0.939453\n",
      "[88]\tvalidation_0-logloss:0.32156\tvalidation_0-auc:0.93988\n",
      "[89]\tvalidation_0-logloss:0.320942\tvalidation_0-auc:0.940082\n",
      "[90]\tvalidation_0-logloss:0.319525\tvalidation_0-auc:0.940996\n",
      "[91]\tvalidation_0-logloss:0.318531\tvalidation_0-auc:0.941543\n",
      "[92]\tvalidation_0-logloss:0.317844\tvalidation_0-auc:0.941963\n",
      "[93]\tvalidation_0-logloss:0.31702\tvalidation_0-auc:0.942262\n",
      "[94]\tvalidation_0-logloss:0.316002\tvalidation_0-auc:0.942787\n",
      "[95]\tvalidation_0-logloss:0.315266\tvalidation_0-auc:0.943311\n",
      "[96]\tvalidation_0-logloss:0.314209\tvalidation_0-auc:0.94367\n",
      "[97]\tvalidation_0-logloss:0.312586\tvalidation_0-auc:0.944592\n",
      "[98]\tvalidation_0-logloss:0.311467\tvalidation_0-auc:0.945356\n",
      "[99]\tvalidation_0-logloss:0.31004\tvalidation_0-auc:0.94621\n"
     ]
    },
    {
     "data": {
      "text/plain": [
       "XGBClassifier(base_score=0.5, booster='gbtree', colsample_bylevel=1,\n",
       "       colsample_bytree=1, gamma=0, gpu_id=0, learning_rate=0.1,\n",
       "       max_bin=32, max_delta_step=0, max_depth=3, min_child_weight=1,\n",
       "       missing=None, n_estimators=100, n_jobs=1, nthread=None,\n",
       "       objective='binary:logistic', random_state=0, reg_alpha=0,\n",
       "       reg_lambda=1, scale_pos_weight=1, seed=None, silent=True,\n",
       "       subsample=1, tree_method='gpu_hist')"
      ]
     },
     "execution_count": 11,
     "metadata": {},
     "output_type": "execute_result"
    }
   ],
   "source": [
    "clf.fit(train_x,train_y,eval_set=[(train_x,train_y)],verbose=1,eval_metric=['logloss','auc'])"
   ]
  },
  {
   "cell_type": "code",
   "execution_count": 15,
   "metadata": {},
   "outputs": [
    {
     "data": {
      "text/plain": [
       "'0.80'"
      ]
     },
     "execution_count": 15,
     "metadata": {},
     "output_type": "execute_result"
    }
   ],
   "source": [
    "import xgboost as xgb\n",
    "xgboost.__version__"
   ]
  },
  {
   "cell_type": "code",
   "execution_count": null,
   "metadata": {},
   "outputs": [],
   "source": []
  }
 ],
 "metadata": {
  "kernelspec": {
   "display_name": "python3.6-GPU",
   "language": "python",
   "name": "python3.6-gpu"
  },
  "language_info": {
   "codemirror_mode": {
    "name": "ipython",
    "version": 3
   },
   "file_extension": ".py",
   "mimetype": "text/x-python",
   "name": "python",
   "nbconvert_exporter": "python",
   "pygments_lexer": "ipython3",
   "version": "3.6.6"
  }
 },
 "nbformat": 4,
 "nbformat_minor": 2
}
