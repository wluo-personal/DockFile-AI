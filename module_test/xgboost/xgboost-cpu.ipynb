{
 "cells": [
  {
   "cell_type": "code",
   "execution_count": 2,
   "metadata": {},
   "outputs": [],
   "source": [
    "from xgboost import XGBClassifier\n",
    "import pandas as pd"
   ]
  },
  {
   "cell_type": "code",
   "execution_count": 3,
   "metadata": {},
   "outputs": [],
   "source": [
    "df = pd.read_csv('../../data/pima-indians-diabetes.data.csv')\n",
    "train_x = df.iloc[:,:8].values\n",
    "train_y = df.iloc[:,8].values"
   ]
  },
  {
   "cell_type": "code",
   "execution_count": 4,
   "metadata": {},
   "outputs": [],
   "source": [
    "clf = XGBClassifier()"
   ]
  },
  {
   "cell_type": "code",
   "execution_count": 5,
   "metadata": {},
   "outputs": [
    {
     "name": "stdout",
     "output_type": "stream",
     "text": [
      "[0]\tvalidation_0-logloss:0.655955\tvalidation_0-auc:0.834434\n",
      "[1]\tvalidation_0-logloss:0.625335\tvalidation_0-auc:0.852457\n",
      "[2]\tvalidation_0-logloss:0.599746\tvalidation_0-auc:0.851416\n",
      "[3]\tvalidation_0-logloss:0.578237\tvalidation_0-auc:0.862543\n",
      "[4]\tvalidation_0-logloss:0.559695\tvalidation_0-auc:0.865079\n",
      "[5]\tvalidation_0-logloss:0.5439\tvalidation_0-auc:0.866948\n",
      "[6]\tvalidation_0-logloss:0.528669\tvalidation_0-auc:0.87403\n",
      "[7]\tvalidation_0-logloss:0.515722\tvalidation_0-auc:0.876345\n",
      "[8]\tvalidation_0-logloss:0.504599\tvalidation_0-auc:0.877648\n",
      "[9]\tvalidation_0-logloss:0.493862\tvalidation_0-auc:0.878989\n",
      "[10]\tvalidation_0-logloss:0.484786\tvalidation_0-auc:0.880079\n",
      "[11]\tvalidation_0-logloss:0.476725\tvalidation_0-auc:0.881854\n",
      "[12]\tvalidation_0-logloss:0.469067\tvalidation_0-auc:0.883109\n",
      "[13]\tvalidation_0-logloss:0.462013\tvalidation_0-auc:0.886015\n",
      "[14]\tvalidation_0-logloss:0.455898\tvalidation_0-auc:0.886921\n",
      "[15]\tvalidation_0-logloss:0.449712\tvalidation_0-auc:0.889588\n",
      "[16]\tvalidation_0-logloss:0.444128\tvalidation_0-auc:0.891236\n",
      "[17]\tvalidation_0-logloss:0.438913\tvalidation_0-auc:0.892996\n",
      "[18]\tvalidation_0-logloss:0.433786\tvalidation_0-auc:0.894303\n",
      "[19]\tvalidation_0-logloss:0.42903\tvalidation_0-auc:0.896408\n",
      "[20]\tvalidation_0-logloss:0.424969\tvalidation_0-auc:0.896805\n",
      "[21]\tvalidation_0-logloss:0.420654\tvalidation_0-auc:0.898925\n",
      "[22]\tvalidation_0-logloss:0.417061\tvalidation_0-auc:0.899989\n",
      "[23]\tvalidation_0-logloss:0.413442\tvalidation_0-auc:0.901142\n",
      "[24]\tvalidation_0-logloss:0.409868\tvalidation_0-auc:0.902667\n",
      "[25]\tvalidation_0-logloss:0.406755\tvalidation_0-auc:0.903416\n",
      "[26]\tvalidation_0-logloss:0.403607\tvalidation_0-auc:0.904914\n",
      "[27]\tvalidation_0-logloss:0.401029\tvalidation_0-auc:0.904831\n",
      "[28]\tvalidation_0-logloss:0.398268\tvalidation_0-auc:0.906049\n",
      "[29]\tvalidation_0-logloss:0.395682\tvalidation_0-auc:0.907022\n",
      "[30]\tvalidation_0-logloss:0.392525\tvalidation_0-auc:0.908483\n",
      "[31]\tvalidation_0-logloss:0.389642\tvalidation_0-auc:0.910247\n",
      "[32]\tvalidation_0-logloss:0.387198\tvalidation_0-auc:0.911472\n",
      "[33]\tvalidation_0-logloss:0.385008\tvalidation_0-auc:0.911921\n",
      "[34]\tvalidation_0-logloss:0.382285\tvalidation_0-auc:0.913524\n",
      "[35]\tvalidation_0-logloss:0.380684\tvalidation_0-auc:0.913951\n",
      "[36]\tvalidation_0-logloss:0.378594\tvalidation_0-auc:0.914757\n",
      "[37]\tvalidation_0-logloss:0.375898\tvalidation_0-auc:0.915712\n",
      "[38]\tvalidation_0-logloss:0.374338\tvalidation_0-auc:0.916056\n",
      "[39]\tvalidation_0-logloss:0.372681\tvalidation_0-auc:0.916427\n",
      "[40]\tvalidation_0-logloss:0.371076\tvalidation_0-auc:0.917543\n",
      "[41]\tvalidation_0-logloss:0.368807\tvalidation_0-auc:0.918449\n",
      "[42]\tvalidation_0-logloss:0.366512\tvalidation_0-auc:0.920045\n",
      "[43]\tvalidation_0-logloss:0.365201\tvalidation_0-auc:0.920614\n",
      "[44]\tvalidation_0-logloss:0.363645\tvalidation_0-auc:0.921146\n",
      "[45]\tvalidation_0-logloss:0.362597\tvalidation_0-auc:0.921715\n",
      "[46]\tvalidation_0-logloss:0.360498\tvalidation_0-auc:0.922757\n",
      "[47]\tvalidation_0-logloss:0.359209\tvalidation_0-auc:0.923146\n",
      "[48]\tvalidation_0-logloss:0.357911\tvalidation_0-auc:0.924307\n",
      "[49]\tvalidation_0-logloss:0.356053\tvalidation_0-auc:0.924951\n",
      "[50]\tvalidation_0-logloss:0.354924\tvalidation_0-auc:0.925116\n",
      "[51]\tvalidation_0-logloss:0.353562\tvalidation_0-auc:0.925596\n",
      "[52]\tvalidation_0-logloss:0.352508\tvalidation_0-auc:0.926142\n",
      "[53]\tvalidation_0-logloss:0.350422\tvalidation_0-auc:0.927086\n",
      "[54]\tvalidation_0-logloss:0.34915\tvalidation_0-auc:0.927985\n",
      "[55]\tvalidation_0-logloss:0.347492\tvalidation_0-auc:0.928914\n",
      "[56]\tvalidation_0-logloss:0.346717\tvalidation_0-auc:0.929438\n",
      "[57]\tvalidation_0-logloss:0.345788\tvalidation_0-auc:0.929678\n",
      "[58]\tvalidation_0-logloss:0.345014\tvalidation_0-auc:0.930075\n",
      "[59]\tvalidation_0-logloss:0.344397\tvalidation_0-auc:0.930105\n",
      "[60]\tvalidation_0-logloss:0.343076\tvalidation_0-auc:0.930749\n",
      "[61]\tvalidation_0-logloss:0.34225\tvalidation_0-auc:0.930891\n",
      "[62]\tvalidation_0-logloss:0.340746\tvalidation_0-auc:0.931753\n",
      "[63]\tvalidation_0-logloss:0.34006\tvalidation_0-auc:0.93212\n",
      "[64]\tvalidation_0-logloss:0.339532\tvalidation_0-auc:0.932528\n",
      "[65]\tvalidation_0-logloss:0.338606\tvalidation_0-auc:0.93306\n",
      "[66]\tvalidation_0-logloss:0.337983\tvalidation_0-auc:0.933502\n",
      "[67]\tvalidation_0-logloss:0.337342\tvalidation_0-auc:0.933936\n",
      "[68]\tvalidation_0-logloss:0.33553\tvalidation_0-auc:0.934644\n",
      "[69]\tvalidation_0-logloss:0.334844\tvalidation_0-auc:0.934749\n",
      "[70]\tvalidation_0-logloss:0.333503\tvalidation_0-auc:0.935296\n",
      "[71]\tvalidation_0-logloss:0.332032\tvalidation_0-auc:0.936352\n",
      "[72]\tvalidation_0-logloss:0.33149\tvalidation_0-auc:0.936719\n",
      "[73]\tvalidation_0-logloss:0.32979\tvalidation_0-auc:0.937423\n",
      "[74]\tvalidation_0-logloss:0.327925\tvalidation_0-auc:0.938262\n",
      "[75]\tvalidation_0-logloss:0.327425\tvalidation_0-auc:0.938472\n",
      "[76]\tvalidation_0-logloss:0.326846\tvalidation_0-auc:0.938652\n",
      "[77]\tvalidation_0-logloss:0.326039\tvalidation_0-auc:0.939064\n",
      "[78]\tvalidation_0-logloss:0.325148\tvalidation_0-auc:0.939708\n",
      "[79]\tvalidation_0-logloss:0.323817\tvalidation_0-auc:0.940472\n",
      "[80]\tvalidation_0-logloss:0.322253\tvalidation_0-auc:0.941191\n",
      "[81]\tvalidation_0-logloss:0.3218\tvalidation_0-auc:0.941318\n",
      "[82]\tvalidation_0-logloss:0.320177\tvalidation_0-auc:0.942097\n",
      "[83]\tvalidation_0-logloss:0.319095\tvalidation_0-auc:0.942884\n",
      "[84]\tvalidation_0-logloss:0.318002\tvalidation_0-auc:0.943438\n",
      "[85]\tvalidation_0-logloss:0.316641\tvalidation_0-auc:0.944097\n",
      "[86]\tvalidation_0-logloss:0.315981\tvalidation_0-auc:0.944397\n",
      "[87]\tvalidation_0-logloss:0.31548\tvalidation_0-auc:0.94439\n",
      "[88]\tvalidation_0-logloss:0.314595\tvalidation_0-auc:0.944569\n",
      "[89]\tvalidation_0-logloss:0.314188\tvalidation_0-auc:0.944689\n",
      "[90]\tvalidation_0-logloss:0.313727\tvalidation_0-auc:0.944996\n",
      "[91]\tvalidation_0-logloss:0.312722\tvalidation_0-auc:0.945438\n",
      "[92]\tvalidation_0-logloss:0.311256\tvalidation_0-auc:0.94633\n",
      "[93]\tvalidation_0-logloss:0.310932\tvalidation_0-auc:0.946449\n",
      "[94]\tvalidation_0-logloss:0.310523\tvalidation_0-auc:0.946502\n",
      "[95]\tvalidation_0-logloss:0.309681\tvalidation_0-auc:0.946809\n",
      "[96]\tvalidation_0-logloss:0.308324\tvalidation_0-auc:0.947498\n",
      "[97]\tvalidation_0-logloss:0.307854\tvalidation_0-auc:0.947633\n",
      "[98]\tvalidation_0-logloss:0.306066\tvalidation_0-auc:0.948472\n",
      "[99]\tvalidation_0-logloss:0.305693\tvalidation_0-auc:0.948704\n"
     ]
    },
    {
     "data": {
      "text/plain": [
       "XGBClassifier(base_score=0.5, booster='gbtree', colsample_bylevel=1,\n",
       "       colsample_bytree=1, gamma=0, learning_rate=0.1, max_delta_step=0,\n",
       "       max_depth=3, min_child_weight=1, missing=None, n_estimators=100,\n",
       "       n_jobs=1, nthread=None, objective='binary:logistic', random_state=0,\n",
       "       reg_alpha=0, reg_lambda=1, scale_pos_weight=1, seed=None,\n",
       "       silent=True, subsample=1)"
      ]
     },
     "execution_count": 5,
     "metadata": {},
     "output_type": "execute_result"
    }
   ],
   "source": [
    "clf.fit(train_x,train_y,eval_set=[(train_x,train_y)],verbose=1,eval_metric=['logloss','auc'])"
   ]
  },
  {
   "cell_type": "code",
   "execution_count": null,
   "metadata": {},
   "outputs": [],
   "source": []
  }
 ],
 "metadata": {
  "kernelspec": {
   "display_name": "python3.6-GPU",
   "language": "python",
   "name": "python3.6-gpu"
  },
  "language_info": {
   "codemirror_mode": {
    "name": "ipython",
    "version": 3
   },
   "file_extension": ".py",
   "mimetype": "text/x-python",
   "name": "python",
   "nbconvert_exporter": "python",
   "pygments_lexer": "ipython3",
   "version": "3.6.6"
  }
 },
 "nbformat": 4,
 "nbformat_minor": 2
}
